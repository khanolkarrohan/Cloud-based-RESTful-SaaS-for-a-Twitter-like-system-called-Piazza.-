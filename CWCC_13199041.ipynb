{
 "cells": [
  {
   "cell_type": "markdown",
   "metadata": {},
   "source": [
    "# TC 1 : Olga , Nick , Mary and Nestor registerd and ready to access the Piazza API "
   ]
  },
  {
   "cell_type": "code",
   "execution_count": 9,
   "metadata": {},
   "outputs": [
    {
     "name": "stdout",
     "output_type": "stream",
     "text": [
      "{'detail': 'Authentication credentials were not provided.'}\n"
     ]
    }
   ],
   "source": [
    "import requests\n",
    "url = \"http://10.61.64.56:8000/v1/piazza/\"\n",
    "response = requests.get(url)\n",
    "json_response = response.json()\n",
    "print(json_response)"
   ]
  },
  {
   "cell_type": "code",
   "execution_count": 10,
   "metadata": {},
   "outputs": [
    {
     "name": "stdout",
     "output_type": "stream",
     "text": [
      "{'access_token': 'c2pywbj51ulKcXOSwdNo4WGgbffwx6', 'expires_in': 36000, 'token_type': 'Bearer', 'scope': 'read write', 'refresh_token': 'ijU6X5rxqLxJwSpMeWkrWlPa7sXRs5'}\n"
     ]
    }
   ],
   "source": [
    "url = \"http://10.61.64.56:8000/authentication/register/\" \n",
    "olga = {\n",
    "            'username': 'olga',\n",
    "            'password':'olga'\n",
    "}\n",
    "olga_response = requests.post(url, data = olga) \n",
    "olga_response = olga_response.json() \n",
    "print(olga_response)"
   ]
  },
  {
   "cell_type": "code",
   "execution_count": 11,
   "metadata": {},
   "outputs": [
    {
     "name": "stdout",
     "output_type": "stream",
     "text": [
      "{'access_token': 'LmIhhijTEc6uHVwqV4Jqhi9LdMJgY8', 'expires_in': 36000, 'token_type': 'Bearer', 'scope': 'read write', 'refresh_token': 'lnKiCaHODYFjULTxfRIl9swCbhPYz7'}\n"
     ]
    }
   ],
   "source": [
    "url = \"http://10.61.64.56:8000/authentication/register/\" \n",
    "nick = {\n",
    "            'username': 'nick',\n",
    "            'password':'nick'\n",
    "}\n",
    "nick_response = requests.post(url, data = nick) \n",
    "nick_response = nick_response.json() \n",
    "print(nick_response)"
   ]
  },
  {
   "cell_type": "code",
   "execution_count": 12,
   "metadata": {},
   "outputs": [
    {
     "name": "stdout",
     "output_type": "stream",
     "text": [
      "{'access_token': 'UvN6XVVU7Mcaug9HbVTfJWVNTi6eOe', 'expires_in': 36000, 'token_type': 'Bearer', 'scope': 'read write', 'refresh_token': 'RKP8a0KEkvgV7grVxjdRzb9wsKP7Wp'}\n"
     ]
    }
   ],
   "source": [
    "url = \"http://10.61.64.56:8000/authentication/register/\" \n",
    "mary = {\n",
    "            'username': 'mary',\n",
    "            'password':'mary'\n",
    "}\n",
    "mary_response = requests.post(url, data = mary) \n",
    "mary_response = mary_response.json() \n",
    "print(mary_response)"
   ]
  },
  {
   "cell_type": "code",
   "execution_count": 13,
   "metadata": {},
   "outputs": [
    {
     "name": "stdout",
     "output_type": "stream",
     "text": [
      "{'access_token': 'ZelMRWauQsUqw0dpC9zGmx0liBEr47', 'expires_in': 36000, 'token_type': 'Bearer', 'scope': 'read write', 'refresh_token': 'GdyAlv4piXCME4yOfxGp9s0CF9Y8DD'}\n"
     ]
    }
   ],
   "source": [
    "url = \"http://10.61.64.56:8000/authentication/register/\" \n",
    "nestor = {\n",
    "            'username': 'nestor',\n",
    "            'password':'nestor'\n",
    "}\n",
    "nestor_response = requests.post(url, data = nestor) \n",
    "nestor_response = nestor_response.json() \n",
    "print(nestor_response)"
   ]
  },
  {
   "cell_type": "markdown",
   "metadata": {},
   "source": [
    "# TC 2 : Olga , Nick , Mary and Nestor use the OAuth V2 authorisation service  to register and get their tokens"
   ]
  },
  {
   "cell_type": "code",
   "execution_count": 14,
   "metadata": {},
   "outputs": [
    {
     "name": "stdout",
     "output_type": "stream",
     "text": [
      "c2pywbj51ulKcXOSwdNo4WGgbffwx6\n"
     ]
    }
   ],
   "source": [
    "olga_token = olga_response['access_token']\n",
    "print(olga_token)"
   ]
  },
  {
   "cell_type": "code",
   "execution_count": 15,
   "metadata": {},
   "outputs": [
    {
     "name": "stdout",
     "output_type": "stream",
     "text": [
      "LmIhhijTEc6uHVwqV4Jqhi9LdMJgY8\n"
     ]
    }
   ],
   "source": [
    "nick_token = nick_response['access_token']\n",
    "print(nick_token)"
   ]
  },
  {
   "cell_type": "code",
   "execution_count": 16,
   "metadata": {},
   "outputs": [
    {
     "name": "stdout",
     "output_type": "stream",
     "text": [
      "UvN6XVVU7Mcaug9HbVTfJWVNTi6eOe\n"
     ]
    }
   ],
   "source": [
    "mary_token = mary_response['access_token']\n",
    "print(mary_token)"
   ]
  },
  {
   "cell_type": "code",
   "execution_count": 17,
   "metadata": {},
   "outputs": [
    {
     "name": "stdout",
     "output_type": "stream",
     "text": [
      "ZelMRWauQsUqw0dpC9zGmx0liBEr47\n"
     ]
    }
   ],
   "source": [
    "nestor_token = nestor_response['access_token']\n",
    "print(nestor_token)"
   ]
  },
  {
   "cell_type": "markdown",
   "metadata": {},
   "source": [
    "# TC 3 : Olga makes a call to the API without using her token. This call should be unsuccessful as the user is unauthorised"
   ]
  },
  {
   "cell_type": "code",
   "execution_count": 44,
   "metadata": {},
   "outputs": [],
   "source": [
    "piazza_url = \"http://10.61.64.56:8000/v1/piazza/\" \n",
    "headers = {'Authorization': 'Bearer'+str(olga)} \n",
    "record = {'Title': 'The wrong way to haven', \n",
    "          'Politics':'true', \n",
    "          'Health':'false', \n",
    "          'Sports':'true',\n",
    "          'Tech':'false', \n",
    "          'Message_body': 'I spoke to God today And she said that shes ashamed What have I become What have I done' \n",
    "         }"
   ]
  },
  {
   "cell_type": "code",
   "execution_count": 45,
   "metadata": {},
   "outputs": [
    {
     "name": "stdout",
     "output_type": "stream",
     "text": [
      "{'detail': 'Authentication credentials were not provided.'}\n"
     ]
    }
   ],
   "source": [
    "olga_response = requests.post(piazza_url, headers=headers, data=record) \n",
    "print(olga_response.json())"
   ]
  },
  {
   "cell_type": "markdown",
   "metadata": {},
   "source": [
    "# TC 4: Olga Post a message in the Tech topic with expiration time(eg. 5 min) using her token. After the end of expiration time, the message will not accept any further interations (likes, dislikes or comments)"
   ]
  },
  {
   "cell_type": "code",
   "execution_count": 19,
   "metadata": {},
   "outputs": [
    {
     "name": "stdout",
     "output_type": "stream",
     "text": [
      "{'Title': 'The wrong way to haven', 'Politics': False, 'Health': False, 'Sports': False, 'Tech': True, 'Message_body': 'I spoke to God today And she said that shes ashamed What have I become What have I done', 'Post_ID': 13, 'TimeStamp_Post': '2021-04-18T04:47:44.335281Z', 'ExpDateTime_Post': '2021-04-18T04:52:44.335085Z', 'UserID_Post': 19, 'total_likes': 0, 'total_dislikes': 0, 'total_comments': 0, 'status1': 'Post is Live'}\n"
     ]
    }
   ],
   "source": [
    "piazza_url = \"http://10.61.64.56:8000/v1/piazza/\" \n",
    "headers = {'Authorization': 'Bearer '+str(olga_token)} \n",
    "record = {'Title': 'The wrong way to haven', \n",
    "          'Politics':'false', \n",
    "          'Health':'false', \n",
    "          'Sports':'false',\n",
    "          'Tech':'True', \n",
    "          'Message_body': 'I spoke to God today And she said that shes ashamed What have I become What have I done',\n",
    "          'UserID_Post': '19'\n",
    "         }\n",
    "olga_response = requests.post(piazza_url, headers=headers, data=record) \n",
    "print(olga_response.json())"
   ]
  },
  {
   "cell_type": "markdown",
   "metadata": {},
   "source": [
    "# TC 5: Nick posts a message in the Tech topic with an expiration time using his token"
   ]
  },
  {
   "cell_type": "code",
   "execution_count": 20,
   "metadata": {
    "scrolled": true
   },
   "outputs": [
    {
     "name": "stdout",
     "output_type": "stream",
     "text": [
      "{'Title': 'Artificial Intelligence (AI) is really starting to gain momentum.', 'Politics': False, 'Health': False, 'Sports': False, 'Tech': True, 'Message_body': 'Here are seven emerging tech topics you should consider adding to your skillset or brushing up on. While everyone else is busy shopping for gifts, you can use this holiday season and come into 2019 much more prepared than you were last year.', 'Post_ID': 14, 'TimeStamp_Post': '2021-04-18T04:48:47.536136Z', 'ExpDateTime_Post': '2021-04-18T04:53:47.535930Z', 'UserID_Post': 20, 'total_likes': 0, 'total_dislikes': 0, 'total_comments': 0, 'status1': 'Post is Live'}\n"
     ]
    }
   ],
   "source": [
    "piazza_url = \"http://10.61.64.56:8000/v1/piazza/\" \n",
    "headers = {'Authorization': 'Bearer '+str(nick_token)} \n",
    "record = {'Title': 'Artificial Intelligence (AI) is really starting to gain momentum.', \n",
    "          'Politics':'false', \n",
    "          'Health':'false', \n",
    "          'Sports':'false',\n",
    "          'Tech':'true', \n",
    "          'Message_body': 'Here are seven emerging tech topics you should consider adding to your skillset or brushing up on. While everyone else is busy shopping for gifts, you can use this holiday season and come into 2019 much more prepared than you were last year.',\n",
    "          'UserID_Post': '20'\n",
    "         }\n",
    "nick_response = requests.post(piazza_url, headers=headers, data=record) \n",
    "print(nick_response.json())"
   ]
  },
  {
   "cell_type": "markdown",
   "metadata": {},
   "source": [
    "# TC6: Mary posts a message in the Tech topic with an expiration time using her token."
   ]
  },
  {
   "cell_type": "code",
   "execution_count": 21,
   "metadata": {},
   "outputs": [
    {
     "name": "stdout",
     "output_type": "stream",
     "text": [
      "{'Title': 'Deep Learning is a technique', 'Politics': False, 'Health': False, 'Sports': False, 'Tech': True, 'Message_body': 'Deep Learning is a technique that uses things like neural networks, self-organizing maps, and stacked autoencoders to implement Machine Learning.', 'Post_ID': 15, 'TimeStamp_Post': '2021-04-18T04:49:52.000983Z', 'ExpDateTime_Post': '2021-04-18T06:29:52.000780Z', 'UserID_Post': 21, 'total_likes': 0, 'total_dislikes': 0, 'total_comments': 0, 'status1': 'Post is Live'}\n"
     ]
    }
   ],
   "source": [
    "piazza_url = \"http://10.61.64.56:8000/v1/piazza/\" \n",
    "headers = {'Authorization': 'Bearer '+str(mary_token)} \n",
    "record = {'Title': 'Deep Learning is a technique', \n",
    "          'Politics':'false', \n",
    "          'Health':'false', \n",
    "          'Sports':'false',\n",
    "          'Tech':'true', \n",
    "          'Message_body': 'Deep Learning is a technique that uses things like neural networks, self-organizing maps, and stacked autoencoders to implement Machine Learning.',\n",
    "          'UserID_Post': '21'\n",
    "         }\n",
    "mary_response = requests.post(piazza_url, headers=headers, data=record) \n",
    "print(mary_response.json())"
   ]
  },
  {
   "cell_type": "markdown",
   "metadata": {},
   "source": [
    "# TC7 : Nick and Olga Browse all the availabe post in the Tech topics, there should be three post availabe with zero likes, zero dislikes and without and comments. "
   ]
  },
  {
   "cell_type": "markdown",
   "metadata": {},
   "source": [
    "# TC8 : Nick and Olga \"Like\" Mary's post in the Tech topic"
   ]
  },
  {
   "cell_type": "code",
   "execution_count": null,
   "metadata": {},
   "outputs": [],
   "source": [
    "# Nick \"Like\" Mary's Post of Tech Topic\n",
    "action_url = \"http://10.61.64.56:8000/v1/action/\" \n",
    "headers = {'Authorization': 'Bearer '+str(nick_token)} \n",
    "record = {'UserID_Post': '20',\n",
    "          'Post_ID': '15',\n",
    "          'Actions': 'Like',\n",
    "          'comments': ''\n",
    "         }\n",
    "nick_response = requests.post(action_url, headers=headers, data=record) \n",
    "print(nick_response.json())"
   ]
  },
  {
   "cell_type": "code",
   "execution_count": null,
   "metadata": {},
   "outputs": [],
   "source": [
    "# Olga \"Like\" Mary's Post of Tech Topic\n",
    "action_url = \"http://10.61.64.56:8000/v1/action/\" \n",
    "headers = {'Authorization': 'Bearer '+str(olga_token)} \n",
    "record = {'UserID_Post': '19',\n",
    "          'Post_ID': '15',\n",
    "          'Actions': 'Like',\n",
    "          'comments': ''\n",
    "         }\n",
    "olga_response = requests.post(action_url, headers=headers, data=record) \n",
    "print(olga_response.json())"
   ]
  },
  {
   "cell_type": "markdown",
   "metadata": {},
   "source": [
    "# TC 9 : Nestor \"Like\" Nick post and \"Dislike\" Mary post in the Tech topic"
   ]
  },
  {
   "cell_type": "code",
   "execution_count": null,
   "metadata": {},
   "outputs": [],
   "source": [
    "# Nestor \"Like\" Nick's Post of Tech Topic\n",
    "action_url = \"http://10.61.64.56:8000/v1/action/\" \n",
    "headers = {'Authorization': 'Bearer '+str(nick_token)} \n",
    "record = {'UserID_Post': '10',\n",
    "          'Post_ID': '7',\n",
    "          'Actions': 'Like',\n",
    "          'comments': ''\n",
    "         }\n",
    "nick_response = requests.post(action_url, headers=headers, data=record) \n",
    "print(nick_response.json())"
   ]
  },
  {
   "cell_type": "code",
   "execution_count": null,
   "metadata": {},
   "outputs": [],
   "source": [
    "# Nestor \"Dislike\" Mary's Post of Tech Topic\n",
    "action_url = \"http://10.61.64.56:8000/v1/action/\" \n",
    "headers = {'Authorization': 'Bearer '+str(nick_token)} \n",
    "record = {'UserID_Post': '10',\n",
    "          'Post_ID': '8',\n",
    "          'Actions': 'Dislike',\n",
    "          'comments': ''\n",
    "         }\n",
    "nick_response = requests.post(action_url, headers=headers, data=record) \n",
    "print(nick_response.json())"
   ]
  },
  {
   "cell_type": "markdown",
   "metadata": {},
   "source": [
    "# TC 10: Nick browses all the available posts in the Tech topic; at this stage he can see the number of likes and dislikes for each post (Mary has 2 likes and 1 dislike and Nick has 1 like). There are no comments made yet."
   ]
  },
  {
   "cell_type": "markdown",
   "metadata": {},
   "source": [
    "# TC11 : Mary Likes her post in the Tech topic. This call should be unsuccessful, as in Piazza a post owner cannot like their own messages."
   ]
  },
  {
   "cell_type": "code",
   "execution_count": 54,
   "metadata": {},
   "outputs": [
    {
     "name": "stdout",
     "output_type": "stream",
     "text": [
      "{'detail': 'Authentication credentials were not provided.'}\n"
     ]
    }
   ],
   "source": [
    "# Mary \"Like\" her own Post of Tech Topic\n",
    "action_url = \"http://10.61.64.56:8000/v1/action/\" \n",
    "headers = {'Authorization': 'Bearer '+str(mary_token)} \n",
    "record = {'UserID_Post': '9',\n",
    "          'Post_ID': '8',\n",
    "          'Actions': 'Dislike',\n",
    "          'comments': ''\n",
    "         }\n",
    "mary_response = requests.post(action_url, headers=headers, data=record) \n",
    "print(mary_response.json())"
   ]
  },
  {
   "cell_type": "markdown",
   "metadata": {},
   "source": [
    "# TC 12 : Nick and Olga comment for Mary's post in Tech topic in round-robin fashion (one after the other adding at lest 2 comments each)"
   ]
  },
  {
   "cell_type": "code",
   "execution_count": null,
   "metadata": {},
   "outputs": [],
   "source": [
    "# Nick and Olga \"Comment\" on Mary's Post of Tech Topic\n",
    "action_url = \"http://10.61.64.56:8000/v1/action/\" \n",
    "headers1 = {'Authorization': 'Bearer '+str(nick_token)} \n",
    "headers2 = {'Authorization': 'Bearer '+str(olga_token)}\n",
    "headers3 = {'Authorization': 'Bearer '+str(nick_token)} \n",
    "headers4 = {'Authorization': 'Bearer '+str(olga_token)}\n",
    "\n",
    "\n",
    "record1 = {'UserID_Post': '8',\n",
    "          'Post_ID': '8',\n",
    "          'Actions': '',\n",
    "          'comments': 'Hi Olga! How are you?'\n",
    "         }\n",
    "record2 = {'UserID_Post': '7',\n",
    "          'Post_ID': '8',\n",
    "          'Actions': '',\n",
    "          'comments': 'Hi Nick! I am good and you?'\n",
    "         }\n",
    "record3 = {'UserID_Post': '8',\n",
    "          'Post_ID': '8',\n",
    "          'Actions': '',\n",
    "          'comments': 'I am fine, Thank you'\n",
    "         }\n",
    "record4 = {'UserID_Post': '7',\n",
    "          'Post_ID': '8',\n",
    "          'Actions': '',\n",
    "          'comments': 'You are welcome'\n",
    "         }\n",
    "\n",
    "nick_response = requests.post(action_url, headers=headers1, data=record1) \n",
    "print(nick_response.json())\n",
    "olga_response = requests.post(action_url, headers=headers2, data=record2) \n",
    "print(olga_response.json())\n",
    "nick_response = requests.post(action_url, headers=headers3, data=record3) \n",
    "print(nick_response.json())\n",
    "olga_response = requests.post(action_url, headers=headers4, data=record4) \n",
    "print(olga_response.json())"
   ]
  },
  {
   "cell_type": "markdown",
   "metadata": {},
   "source": [
    "# TC 13: Nick browses all the available post in the Tech topic; at this stage he can see the number of likes and dislikes of each post and the comments made."
   ]
  },
  {
   "cell_type": "markdown",
   "metadata": {},
   "source": [
    "# TC 14: Nestor posts a message in the Health topic with an expiration time using her token"
   ]
  },
  {
   "cell_type": "code",
   "execution_count": null,
   "metadata": {},
   "outputs": [],
   "source": [
    "# Nestor Post a message in Health Topic\n",
    "piazza_url = \"http://10.61.64.56:8000/v1/piazza/\" \n",
    "headers = {'Authorization': 'Bearer '+str(nestor_token)} \n",
    "record = {'Title': 'Acute Myeloid Leukemia', \n",
    "          'Politics':'false', \n",
    "          'Health':'true', \n",
    "          'Sports':'false',\n",
    "          'Tech':'false', \n",
    "          'Message_body': 'Leukemia is a term for cancers of the blood cells. Leukemia starts in blood-forming tissues such as the bone marrow. Your bone marrow makes the cells which will develop into white blood cells, red blood cells, and platelets.',\n",
    "          'UserID_Post': '10'\n",
    "         }\n",
    "nestor_response = requests.post(piazza_url, headers=headers, data=record) \n",
    "print(nestor_response.json())"
   ]
  },
  {
   "cell_type": "markdown",
   "metadata": {},
   "source": [
    "# TC 15: Mary browses all the available post in the Health topic; at this stage she can see only Nestor's post"
   ]
  },
  {
   "cell_type": "markdown",
   "metadata": {},
   "source": [
    "# TC 16: Mary post a comment in the Nestor's message in the Health topic."
   ]
  },
  {
   "cell_type": "code",
   "execution_count": 57,
   "metadata": {},
   "outputs": [
    {
     "name": "stdout",
     "output_type": "stream",
     "text": [
      "{'postInteractionID': 11, 'UserID_Post': 9, 'Post_ID': 9, 'Actions': '', 'comments': 'I Did not like the this topic Nestor', 'interactionTimeStamp': '2021-04-08T03:28:36.004031Z'}\n"
     ]
    }
   ],
   "source": [
    "# Mary \"Comment\" Nestor Post of Health Topic\n",
    "action_url = \"http://10.61.64.56:8000/v1/action/\" \n",
    "headers = {'Authorization': 'Bearer '+str(mary_token)} \n",
    "record = {'UserID_Post': '9',\n",
    "          'Post_ID': '9',\n",
    "          'Actions': '',\n",
    "          'comments': 'I Did not like the this topic Nestor'\n",
    "         }\n",
    "mary_response = requests.post(action_url, headers=headers, data=record) \n",
    "print(mary_response.json())"
   ]
  },
  {
   "cell_type": "markdown",
   "metadata": {},
   "source": [
    "# TC 17: Mary dislikes Nestor's messages in the Health topic after the end of the post expiration time. This should fail. "
   ]
  },
  {
   "cell_type": "code",
   "execution_count": 59,
   "metadata": {},
   "outputs": [
    {
     "name": "stdout",
     "output_type": "stream",
     "text": [
      "{'Post_ID': [\"{'Post EXPITED ! YOu CANNOT Interact With This Post'}\"]}\n"
     ]
    }
   ],
   "source": [
    "# Mary \"Dislike\" Nestor Post of Health Topic\n",
    "action_url = \"http://10.61.64.56:8000/v1/action/\" \n",
    "headers = {'Authorization': 'Bearer '+str(mary_token)} \n",
    "record = {'UserID_Post': '9',\n",
    "          'Post_ID': '9',\n",
    "          'Actions': 'Dislike',\n",
    "          'comments': ''\n",
    "         }\n",
    "mary_response = requests.post(action_url, headers=headers, data=record) \n",
    "print(mary_response.json())"
   ]
  },
  {
   "cell_type": "markdown",
   "metadata": {},
   "source": [
    "# TC 18: Nestor browses all the messages in the Health topic. There should be only post(his own) with one comment(Mary's)."
   ]
  },
  {
   "cell_type": "code",
   "execution_count": null,
   "metadata": {},
   "outputs": [],
   "source": []
  },
  {
   "cell_type": "markdown",
   "metadata": {},
   "source": [
    "# TC 19: Nick browses all the expired messages in the Sports topic. These should be empty."
   ]
  },
  {
   "cell_type": "code",
   "execution_count": null,
   "metadata": {},
   "outputs": [],
   "source": []
  },
  {
   "cell_type": "markdown",
   "metadata": {},
   "source": [
    "# TC 20: Nestor queries for an active post having the highest interest (maximum sum of likes and dislikes ) in the Tech topic. This should be Mary's post. "
   ]
  },
  {
   "cell_type": "code",
   "execution_count": null,
   "metadata": {},
   "outputs": [],
   "source": []
  }
 ],
 "metadata": {
  "kernelspec": {
   "display_name": "Python 3",
   "language": "python",
   "name": "python3"
  }
 },
 "nbformat": 4,
 "nbformat_minor": 4
}
